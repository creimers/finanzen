{
 "cells": [
  {
   "cell_type": "code",
   "execution_count": 2,
   "metadata": {
    "collapsed": true
   },
   "outputs": [],
   "source": [
    "import pandas"
   ]
  },
  {
   "cell_type": "code",
   "execution_count": 3,
   "metadata": {
    "collapsed": true
   },
   "outputs": [],
   "source": [
    "data_frame = pandas.read_csv('ausgaben.csv')"
   ]
  },
  {
   "cell_type": "code",
   "execution_count": 4,
   "metadata": {
    "collapsed": false
   },
   "outputs": [
    {
     "name": "stdout",
     "output_type": "stream",
     "text": [
      "         date                         subject  amount      category  regular\n",
      "0    01.01.16                 Essen mit Heike    15.0    Restaurant        1\n",
      "1    02.01.16                   Essen mit Tim    23.0    Restaurant        1\n",
      "2    02.01.16                    Kino mit Tim    12.0      Freizeit        1\n",
      "3    02.01.16                       Bio-Laden    12.0         Essen        1\n",
      "4    04.01.16                       Bio-Laden    14.0         Essen        1\n",
      "5    04.01.16                 Miete Proberaum    40.0      Freizeit        1\n",
      "6    04.01.16                Essen Klippkroog     8.5    Restaurant        1\n",
      "7    05.01.16                Essen Klippkroog    11.2    Restaurant        1\n",
      "8    05.01.16                       Bio-Laden    10.0         Essen        1\n",
      "9    05.01.16                           Budni     5.0         Essen        1\n",
      "10   06.01.16                     Mittagessen     6.5    Restaurant        1\n",
      "11   06.01.16                            REWE     6.5         Essen        1\n",
      "12   07.01.16                      Klippkroog     5.5    Restaurant        1\n",
      "13   07.01.16                      Pizzaabend    10.5    Restaurant        1\n",
      "14   08.01.16                      Tageskarte     6.2     Transport        1\n",
      "15   08.01.16                      Klippkroog     5.5    Restaurant        1\n",
      "16   08.01.16                      Pizzabande    12.0    Restaurant        1\n",
      "17   08.01.16                           Miete   350.0         Miete        1\n",
      "18   09.01.16                 Essen mit Indra    26.0    Restaurant        1\n",
      "19   10.01.16        Kaffe und Kuchen mit Tim     8.0    Restaurant        1\n",
      "20   11.01.16                           Attac     5.0      Freizeit        1\n",
      "21   11.01.16                Essen Klippkroog     8.5    Restaurant        1\n",
      "22   12.01.16                    Essen Burger    10.0    Restaurant        1\n",
      "23   12.01.16                    Einkauf REWE    19.0         Essen        1\n",
      "24   13.01.16                Essen Klippkroog     8.5    Restaurant        1\n",
      "25   13.01.16                   Einkauf Denns    18.0         Essen        1\n",
      "26   13.01.16                          Ziesen     5.8      Freizeit        1\n",
      "27   13.01.16                        Snickers     0.8         Essen        1\n",
      "28   14.01.16                       Slim Jims     9.5         Essen        1\n",
      "29   15.01.16                           Fähre     1.5     Transport        1\n",
      "..        ...                             ...     ...           ...      ...\n",
      "130  08.03.16                 Airbnb Budapest    68.0         Beruf        0\n",
      "131  09.03.16                     Mittagessen    10.0    Restaurant        1\n",
      "132  09.03.16                           Äpfel     3.5  Lebensmittel        1\n",
      "133  06.03.16  Küchenkram (Gläser + Schüssel)    30.0      Haushalt        1\n",
      "134  10.03.16                        Bioladen    31.0  Lebensmittel        1\n",
      "135  10.03.16                 Sushi mit Indra    20.0    Restaurant        1\n",
      "136  14.03.16                     Mittagessen     6.5    Restaurant        1\n",
      "137  13.03.16                       Schwimmen    15.5      Freizeit        1\n",
      "138  13.03.16                             HVV     6.2     Transport        1\n",
      "139  11.03.16                          Bücher    36.0      Freizeit        1\n",
      "140  11.03.16                        Bioladen     4.0  Lebensmittel        1\n",
      "141  11.03.16             Pizzabande Rossella    36.0    Restaurant        1\n",
      "142  11.03.16                 Brunch Rossella    38.0    Restaurant        1\n",
      "143  12.03.16                 kleine Einkäufe    15.0  Lebensmittel        1\n",
      "144  11.03.16                      Festplatte    60.0         Beruf        0\n",
      "145  29.03.16            Fahrrad-Versicherung    31.5  Versicherung        1\n",
      "146  11.03.16                             HVV     4.4     Transport        1\n",
      "147  16.03.16                      Klippkroog     8.1    Restaurant        1\n",
      "148  17.03.16                     Mittagessen     8.0  Lebensmittel        1\n",
      "149  16.03.16           Lebensmittel Biomarkt     3.0  Lebensmittel        1\n",
      "150  16.03.16                           Müsli     5.5  Lebensmittel        1\n",
      "151  18.03.16                      Klippkroog    12.0    Restaurant        1\n",
      "152  18.03.16                 Essen mit Indra    15.0    Restaurant        1\n",
      "153  17.03.16                      Pizzaabend    15.0    Restaurant        1\n",
      "154  19.03.16                    Einkauf REWE    30.0  Lebensmittel        1\n",
      "155  19.03.16                           Creme    10.0        Arznei        1\n",
      "156  19.03.16                    Hara Wischer    86.0      Haushalt        0\n",
      "157  19.03.16                  Skype-Guthaben    10.0      Freizeit        1\n",
      "158  20.03.16                             HVV     5.5     Transport        1\n",
      "159  20.03.16                           Sauna    20.0      Freizeit        1\n",
      "\n",
      "[160 rows x 5 columns]\n"
     ]
    }
   ],
   "source": [
    "print data_frame"
   ]
  },
  {
   "cell_type": "code",
   "execution_count": 14,
   "metadata": {
    "collapsed": false
   },
   "outputs": [
    {
     "data": {
      "text/plain": [
       "category\n",
       "Arznei            10.00\n",
       "Beruf            669.54\n",
       "Essen            515.10\n",
       "Freizeit         589.30\n",
       "Haushalt         180.62\n",
       "Kleidung         104.90\n",
       "Lebensmittel     458.06\n",
       "Miete           1090.00\n",
       "Restaurant       559.30\n",
       "Sonstiges          0.70\n",
       "Transport        291.00\n",
       "Versicherung      94.50\n",
       "Name: amount, dtype: float64"
      ]
     },
     "execution_count": 14,
     "metadata": {},
     "output_type": "execute_result"
    }
   ],
   "source": [
    "data_frame.groupby('category')['amount'].sum()"
   ]
  }
 ],
 "metadata": {
  "kernelspec": {
   "display_name": "Python 2",
   "language": "python",
   "name": "python2"
  },
  "language_info": {
   "codemirror_mode": {
    "name": "ipython",
    "version": 2
   },
   "file_extension": ".py",
   "mimetype": "text/x-python",
   "name": "python",
   "nbconvert_exporter": "python",
   "pygments_lexer": "ipython2",
   "version": "2.7.10"
  }
 },
 "nbformat": 4,
 "nbformat_minor": 0
}
