{
 "cells": [
  {
   "cell_type": "code",
   "execution_count": 40,
   "metadata": {
    "collapsed": true
   },
   "outputs": [],
   "source": [
    "import pandas"
   ]
  },
  {
   "cell_type": "code",
   "execution_count": 41,
   "metadata": {
    "collapsed": true
   },
   "outputs": [],
   "source": [
    "data_frame = pandas.read_csv('ausgaben.csv', parse_dates=['date'])"
   ]
  },
  {
   "cell_type": "code",
   "execution_count": 42,
   "metadata": {
    "collapsed": true
   },
   "outputs": [],
   "source": [
    "data_frame = data_frame.set_index('date')"
   ]
  },
  {
   "cell_type": "code",
   "execution_count": 45,
   "metadata": {
    "collapsed": false
   },
   "outputs": [
    {
     "data": {
      "text/plain": [
       "date\n",
       "2016-01-31    1547.52\n",
       "2016-02-29    1814.10\n",
       "2016-03-31    1554.55\n",
       "Name: amount, dtype: float64"
      ]
     },
     "execution_count": 45,
     "metadata": {},
     "output_type": "execute_result"
    }
   ],
   "source": [
    "data_frame.groupby([pandas.TimeGrouper(freq='M')])['amount'].sum()"
   ]
  },
  {
   "cell_type": "code",
   "execution_count": 51,
   "metadata": {
    "collapsed": false
   },
   "outputs": [
    {
     "data": {
      "text/plain": [
       "date        category    \n",
       "2016-01-31  Beruf           111.54\n",
       "            Freizeit        148.80\n",
       "            Haushalt         49.62\n",
       "            Kleidung        104.90\n",
       "            Lebensmittel    534.16\n",
       "            Miete           350.00\n",
       "            Restaurant      207.80\n",
       "            Transport         9.20\n",
       "            Versicherung     31.50\n",
       "2016-02-29  Beruf           430.00\n",
       "            Freizeit        335.00\n",
       "            Haushalt         15.00\n",
       "            Lebensmittel    239.00\n",
       "            Miete           350.00\n",
       "            Restaurant      149.40\n",
       "            Sonstiges         0.70\n",
       "            Transport       263.50\n",
       "            Versicherung     31.50\n",
       "2016-03-31  Arznei           10.00\n",
       "            Beruf           128.00\n",
       "            Freizeit        240.50\n",
       "            Haushalt        116.00\n",
       "            Lebensmittel    240.25\n",
       "            Miete           390.00\n",
       "            Restaurant      284.00\n",
       "            Transport       114.30\n",
       "            Versicherung     31.50\n",
       "Name: amount, dtype: float64"
      ]
     },
     "execution_count": 51,
     "metadata": {},
     "output_type": "execute_result"
    }
   ],
   "source": [
    "data_frame.groupby([pandas.TimeGrouper(freq='M'), 'category'])['amount'].sum()"
   ]
  },
  {
   "cell_type": "code",
   "execution_count": 52,
   "metadata": {
    "collapsed": false
   },
   "outputs": [
    {
     "data": {
      "text/plain": [
       "4916.1700000000001"
      ]
     },
     "execution_count": 52,
     "metadata": {},
     "output_type": "execute_result"
    }
   ],
   "source": [
    "data_frame['amount'].sum()"
   ]
  }
 ],
 "metadata": {
  "celltoolbar": "Raw Cell Format",
  "kernelspec": {
   "display_name": "Python 3",
   "language": "python",
   "name": "python3"
  },
  "language_info": {
   "codemirror_mode": {
    "name": "ipython",
    "version": 3
   },
   "file_extension": ".py",
   "mimetype": "text/x-python",
   "name": "python",
   "nbconvert_exporter": "python",
   "pygments_lexer": "ipython3",
   "version": "3.4.3"
  }
 },
 "nbformat": 4,
 "nbformat_minor": 0
}
